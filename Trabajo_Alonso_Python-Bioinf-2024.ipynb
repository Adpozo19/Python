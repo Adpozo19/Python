{
 "cells": [
  {
   "cell_type": "markdown",
   "id": "eaebb484",
   "metadata": {},
   "source": [
    "# TRABAJO DE PYTHON\n",
    "\n",
    "### Este trabajo cuenta el 30% de la nota. \n",
    "\n",
    "### Resuelve los siguientes ejercicios en Python\n",
    "\n",
    "#### Utiliza tantas celdas de código como necesites"
   ]
  },
  {
   "cell_type": "markdown",
   "id": "98d4d480",
   "metadata": {},
   "source": [
    "#### 1.- Carga el archivo *\"archivo.txt\"* en este Jupyter Notebook y guarda su contenido en una lista. (1 pto)"
   ]
  },
  {
   "cell_type": "code",
   "execution_count": 17,
   "id": "f6b21b23",
   "metadata": {},
   "outputs": [],
   "source": [
    "#Cargar el archivo txt\n",
    "archivo_path = 'archivo.txt'\n",
    "\n",
    "with open(archivo_path, 'r') as file:\n",
    "    datos_secuencia = file.readlines()"
   ]
  },
  {
   "cell_type": "code",
   "execution_count": 19,
   "id": "19d9a256-b94c-48c5-b83f-6ac73ee07067",
   "metadata": {},
   "outputs": [
    {
     "name": "stdout",
     "output_type": "stream",
     "text": [
      "['>CP043953.1 Acinetobacter baumannii strain K09-14 chromosome, complete genome\\n', 'ATGCTTTGGACAGACTGCTTAACTCGCTTGCGACAAGAGCTCTCTGATAACGTCTTTGCGATGTGGATTCGCCCTTTAGTAGCTGAAGAAGTAGAGGGGATACTACGTCTCTATGCTCCTAATCCTTATTGGACGCGTTATATTCAAGAGAATCATTTAGAGTTAATTTCTATATTGGCTGAACAATTGTCAGAAGGGCGGGTGCGTCAGGTTGAAATCTTGGTAGATTCTCGTCCTGGTAGTATTTTGTCTTCTAGTGAACAGCCTGCAACAACTACAGCAGCTTTACAAACTGCCCCTATACCTCAACCTGCTAAGGTTAAAAGAGAACCGGAACCTGTTGCTAATACTGCAGTTAGTTCTAAGAGTTCAAAAAAGAAACTATTAAATCCACAATTTACTTTTTCACTATTTGTTGAAGGCCGTTCTAACCAAATGGCAGCAGAAACCTGTAGAAAAGTATTAACACAGTTAGGTGCTTCTCAACATAACCCTTTGTTTTTATATGGTCCGACAGGTCTAGGTAAGACTCACTTAATGCAAGCAGTTGGTAATGCCCTACTGCAAGCGAAGCCGAATGCAAGAGTCATGTATATGACTTCAGAAAGTTTTGTACAAGATTTTGTGAGCTCATTACAAAAAGGAAAGGTAGAAGAGTTTAAGAAAAATTGCCGTTCTTTAGACTTGTTATTAGTAGATGATATTCATCTTTTGGCAGGAAAAGAAGCAAGTCTCGTTGAATTCTTCTATACATTTAATGCCTTACTTGATGAATCTAAACAAATTATTTTAACGTCTGATCGATATCCTAAAGAATTAACAGAACTTGATCCTCGATTGGTTTCTCGTTTTTCCTGGGGGCTATCAGTAGGTGTTGAACCACCTGATATTGAAACTCGAATCGAAATTCTGCTTAAAAAAGCTGAAAATAGTGGCGTTGATTTACCTAGAAACTGTGCGTTGTTTATTGCCCAACAAGTCGTAGCGAACGTACGTGAACTTGAGGGCGCACTGAATAAAGTTGTCGCAATTTCACGTTTTAAAGGTGCTCCAATTGACCTGGATGTCGTACGGGAATCTTTAAAAGATGTTTTAGCGATCCGTGCTCGTACAATTAGTGTAGAAAATATCCAGCGTGTAGTGAGTGAATATTTCCGAATTCCATTAAAAGAGCTGGTAGGTCCAAAGCGTACCCGAATTTATGCTCGACCACGTCAGTTGGCGATGGGGCTTGCCCGTGAATTAACGGGGGATAGTTTTCCTGAAATTGGAATGGCTTTTGGTGGGCGTGATCACAGTACAGTGATGCATGCTTGTGAAAAAGTCGTC']\n"
     ]
    }
   ],
   "source": [
    "print(datos_secuencia)"
   ]
  },
  {
   "cell_type": "markdown",
   "id": "400fa3f1",
   "metadata": {},
   "source": [
    "#### 2.- Muestre el encabezado y la secuencia y guarde cada uno en variables separadas. Elimine el elemento \"\\n\" del encabezado con replace(). ¿Cual es la longitud de la secuencia?. (1 pto)"
   ]
  },
  {
   "cell_type": "code",
   "execution_count": 21,
   "id": "154b42b2",
   "metadata": {},
   "outputs": [],
   "source": [
    "# Primero voy a extraer el encabezado (el cual es la primera línea)  y la secuencia (resto de las líneas) también voy a eliminar el \"\\n\" del encabezado\n",
    "encabezado = datos_secuencia[0].replace(\"\\n\", \"\") \n",
    "secuencia = ''.join(line.strip() for line in datos_secuencia[1:]) #Uno todas las otras lineas para hacer la secuencia \n"
   ]
  },
  {
   "cell_type": "code",
   "execution_count": 29,
   "id": "cbbc5e35-a837-4813-b8b7-6156942c69f8",
   "metadata": {},
   "outputs": [
    {
     "name": "stdout",
     "output_type": "stream",
     "text": [
      "Encabezado de la secuencia  >CP043953.1 Acinetobacter baumannii strain K09-14 chromosome, complete genome\n",
      "Secuencia  ATGCTTTGGACAGACTGCTTAACTCGCTTGCGACAAGAGCTCTCTGATAACGTCTTTGCGATGTGGATTCGCCCTTTAGTAGCTGAAGAAGTAGAGGGGATACTACGTCTCTATGCTCCTAATCCTTATTGGACGCGTTATATTCAAGAGAATCATTTAGAGTTAATTTCTATATTGGCTGAACAATTGTCAGAAGGGCGGGTGCGTCAGGTTGAAATCTTGGTAGATTCTCGTCCTGGTAGTATTTTGTCTTCTAGTGAACAGCCTGCAACAACTACAGCAGCTTTACAAACTGCCCCTATACCTCAACCTGCTAAGGTTAAAAGAGAACCGGAACCTGTTGCTAATACTGCAGTTAGTTCTAAGAGTTCAAAAAAGAAACTATTAAATCCACAATTTACTTTTTCACTATTTGTTGAAGGCCGTTCTAACCAAATGGCAGCAGAAACCTGTAGAAAAGTATTAACACAGTTAGGTGCTTCTCAACATAACCCTTTGTTTTTATATGGTCCGACAGGTCTAGGTAAGACTCACTTAATGCAAGCAGTTGGTAATGCCCTACTGCAAGCGAAGCCGAATGCAAGAGTCATGTATATGACTTCAGAAAGTTTTGTACAAGATTTTGTGAGCTCATTACAAAAAGGAAAGGTAGAAGAGTTTAAGAAAAATTGCCGTTCTTTAGACTTGTTATTAGTAGATGATATTCATCTTTTGGCAGGAAAAGAAGCAAGTCTCGTTGAATTCTTCTATACATTTAATGCCTTACTTGATGAATCTAAACAAATTATTTTAACGTCTGATCGATATCCTAAAGAATTAACAGAACTTGATCCTCGATTGGTTTCTCGTTTTTCCTGGGGGCTATCAGTAGGTGTTGAACCACCTGATATTGAAACTCGAATCGAAATTCTGCTTAAAAAAGCTGAAAATAGTGGCGTTGATTTACCTAGAAACTGTGCGTTGTTTATTGCCCAACAAGTCGTAGCGAACGTACGTGAACTTGAGGGCGCACTGAATAAAGTTGTCGCAATTTCACGTTTTAAAGGTGCTCCAATTGACCTGGATGTCGTACGGGAATCTTTAAAAGATGTTTTAGCGATCCGTGCTCGTACAATTAGTGTAGAAAATATCCAGCGTGTAGTGAGTGAATATTTCCGAATTCCATTAAAAGAGCTGGTAGGTCCAAAGCGTACCCGAATTTATGCTCGACCACGTCAGTTGGCGATGGGGCTTGCCCGTGAATTAACGGGGGATAGTTTTCCTGAAATTGGAATGGCTTTTGGTGGGCGTGATCACAGTACAGTGATGCATGCTTGTGAAAAAGTCGTC\n"
     ]
    }
   ],
   "source": [
    "#Ahora los vamos a mostrar (pongo f\" para resaltar lo que es cada cosa \n",
    "print(f\"Encabezado de la secuencia  {encabezado}\")\n",
    "print(f\"Secuencia  {secuencia}\")"
   ]
  },
  {
   "cell_type": "code",
   "execution_count": 41,
   "id": "f53c1999-2a79-4b6f-902f-2b6f05e4a3e2",
   "metadata": {},
   "outputs": [
    {
     "name": "stdout",
     "output_type": "stream",
     "text": [
      "La longitud de la secuencia es: 1329\n"
     ]
    }
   ],
   "source": [
    "#Para saber la longitud de la secuencia \n",
    "Longitud_secuencia=len(secuencia)\n",
    "print(f\"La longitud de la secuencia es: {Longitud_secuencia}\")\n"
   ]
  },
  {
   "cell_type": "markdown",
   "id": "36b8c00d",
   "metadata": {},
   "source": [
    "#### 3.- Para el encabezado, extrae empleando expresiones regulares el identificador. (1pto)"
   ]
  },
  {
   "cell_type": "code",
   "execution_count": 59,
   "id": "d845bb81",
   "metadata": {},
   "outputs": [
    {
     "name": "stdout",
     "output_type": "stream",
     "text": [
      "Identificador extraído: CP043953.1\n"
     ]
    }
   ],
   "source": [
    "#como vamos a usar expresiones regulares para extraer el encabezado \n",
    "import re\n",
    "\n",
    "# Extraer el identificador del encabezado usando expresiones regulares\n",
    "# Cómo el identificador está entre el símbolo \">\" (marca el inicio) con este y (.*?)\\s\"  definimos el patrón de la expresión regular \n",
    "patron = r\">(.*?)\\s\"\n",
    "identificador = re.search(patron, encabezado)\n",
    "\n",
    "# Verificamos y mostramos el identificador\n",
    "if identificador:\n",
    "    identificador = identificador.group(1)\n",
    "    print(f\"Identificador extraído: {identificador}\")\n",
    "\n"
   ]
  },
  {
   "cell_type": "markdown",
   "id": "f38fdda0",
   "metadata": {},
   "source": [
    "#### 4.- Para la secuencia, haz un algoritmo que vaya sumando el numero de adeninas (A) y timinas (T) segun vaya iterando por la secuencia. El numero total de adeninas y timinas deberia guardarse en una misma variable. (1 pto)"
   ]
  },
  {
   "cell_type": "code",
   "execution_count": 61,
   "id": "2914b1f2",
   "metadata": {},
   "outputs": [],
   "source": [
    "# iniciamos con el contador a 0 \n",
    "conteo_at = 0\n"
   ]
  },
  {
   "cell_type": "code",
   "execution_count": 63,
   "id": "269a2691-87a3-46ee-b993-2e7f212dedcc",
   "metadata": {},
   "outputs": [],
   "source": [
    "#Creo una condicional en la que si un nucleótido es igual a T o a A se sumará 1 al conteo \n",
    "for nucleotido in secuencia:\n",
    "    if nucleotido == 'A' or nucleotido == 'T':  # Si es adenina (A) o timina (T)\n",
    "        conteo_at += 1  # Incrementar el conteo"
   ]
  },
  {
   "cell_type": "code",
   "execution_count": 67,
   "id": "bc3097a5-88ec-4014-a241-dec8db9308d6",
   "metadata": {},
   "outputs": [
    {
     "name": "stdout",
     "output_type": "stream",
     "text": [
      "Número total de adeninas y timinas : 793\n"
     ]
    }
   ],
   "source": [
    "# Para mostrar el resultado \n",
    "print(f\"Número total de adeninas y timinas : {conteo_at}\")"
   ]
  },
  {
   "cell_type": "markdown",
   "id": "98096e73",
   "metadata": {},
   "source": [
    "#### 5.- Escribe una funcion que calcule el porcentaje de un nucleotido de una secuencia y que examine la entrada para comprobar que se ha introducido un nucleotido de los cuatro tipos que hay (A, T, G o C). Devuelve el resultado con un decimal. Por ultimo comprueba que tu codigo funciona con las siguientes *assertions*. (1 pto)"
   ]
  },
  {
   "cell_type": "code",
   "execution_count": 77,
   "id": "e9c8de5d-7082-4d77-9ea1-6bfb6807359c",
   "metadata": {},
   "outputs": [
    {
     "name": "stdout",
     "output_type": "stream",
     "text": [
      "Todas las assertions han pasado el chequeo correctamente\n"
     ]
    }
   ],
   "source": [
    "#Escribimos la función que calcule el porcentage de un nucleotido de una secuencia junto a una condicional qu \n",
    "def calculo_porcentaje(nucleotido, secuencia):\n",
    "    conteo = secuencia.count(nucleotido)\n",
    "    porcentaje = (conteo / len(secuencia)) * 100\n",
    "    \n",
    "    # Para redondear a un decimal y devolver el resultado\n",
    "    return round(porcentaje, 1)\n",
    "\n",
    "assert calculo_porcentaje(\"A\",secuencia) == 29.2\n",
    "assert calculo_porcentaje(\"T\",secuencia) == 30.5\n",
    "assert calculo_porcentaje(\"G\",secuencia) == 22.0\n",
    "assert calculo_porcentaje(\"C\",secuencia) == 18.3\n",
    "\n",
    "print(\"Todas las assertions han pasado el chequeo correctamente.\")"
   ]
  },
  {
   "cell_type": "markdown",
   "id": "a28888dd",
   "metadata": {},
   "source": [
    "#### 6.- Devuelve la secuencia de ARN que surgiría a partir de la siguiente secuencia. Recuerda que la secuencia de ARN resultante tiene que ser complementaria a la de ADN y además, hay que cambiar un nucleótido. (1 pto)"
   ]
  },
  {
   "cell_type": "code",
   "execution_count": 79,
   "id": "b27feabb",
   "metadata": {},
   "outputs": [],
   "source": [
    "# Función para convertir ADN en ARN complementario\n",
    "def transcribir_a_arn(secuencia_adn):\n",
    "    # Para pasar de A a U , de T a A, de C a G y de G a C.\n",
    "    complementos = {'A': 'U', 'T': 'A', 'C': 'G', 'G': 'C'}\n",
    "    \n",
    "    #para generar la secuencia de ARN complementaria \n",
    "    secuencia_arn = ''.join(complementos[nucleotido] for nucleotido in secuencia_adn)\n",
    "    \n",
    "    return secuencia_arn\n"
   ]
  },
  {
   "cell_type": "code",
   "execution_count": 89,
   "id": "2ea07236-f6b2-45e7-a2c1-363f2669083c",
   "metadata": {},
   "outputs": [],
   "source": [
    "#Transcribimos la secuencia de ADN a ARN\n",
    "secuencia_arn = transcribir_a_arn(secuencia)\n"
   ]
  },
  {
   "cell_type": "code",
   "execution_count": 93,
   "id": "8a2d4361-e1a4-4b99-9e38-75c712c39c70",
   "metadata": {},
   "outputs": [
    {
     "name": "stdout",
     "output_type": "stream",
     "text": [
      "Esta es la secuencia de ARN UACGAAACCUGUCUGACGAAUUGAGCGAACGCUGUUCUCGAGAGACUAUUGCAGAAACGCUACACCUAAGCGGGAAAUCAUCGACUUCUUCAUCUCCCCUAUGAUGCAGAGAUACGAGGAUUAGGAAUAACCUGCGCAAUAUAAGUUCUCUUAGUAAAUCUCAAUUAAAGAUAUAACCGACUUGUUAACAGUCUUCCCGCCCACGCAGUCCAACUUUAGAACCAUCUAAGAGCAGGACCAUCAUAAAACAGAAGAUCACUUGUCGGACGUUGUUGAUGUCGUCGAAAUGUUUGACGGGGAUAUGGAGUUGGACGAUUCCAAUUUUCUCUUGGCCUUGGACAACGAUUAUGACGUCAAUCAAGAUUCUCAAGUUUUUUCUUUGAUAAUUUAGGUGUUAAAUGAAAAAGUGAUAAACAACUUCCGGCAAGAUUGGUUUACCGUCGUCUUUGGACAUCUUUUCAUAAUUGUGUCAAUCCACGAAGAGUUGUAUUGGGAAACAAAAAUAUACCAGGCUGUCCAGAUCCAUUCUGAGUGAAUUACGUUCGUCAACCAUUACGGGAUGACGUUCGCUUCGGCUUACGUUCUCAGUACAUAUACUGAAGUCUUUCAAAACAUGUUCUAAAACACUCGAGUAAUGUUUUUCCUUUCCAUCUUCUCAAAUUCUUUUUAACGGCAAGAAAUCUGAACAAUAAUCAUCUACUAUAAGUAGAAAACCGUCCUUUUCUUCGUUCAGAGCAACUUAAGAAGAUAUGUAAAUUACGGAAUGAACUACUUAGAUUUGUUUAAUAAAAUUGCAGACUAGCUAUAGGAUUUCUUAAUUGUCUUGAACUAGGAGCUAACCAAAGAGCAAAAAGGACCCCCGAUAGUCAUCCACAACUUGGUGGACUAUAACUUUGAGCUUAGCUUUAAGACGAAUUUUUUCGACUUUUAUCACCGCAACUAAAUGGAUCUUUGACACGCAACAAAUAACGGGUUGUUCAGCAUCGCUUGCAUGCACUUGAACUCCCGCGUGACUUAUUUCAACAGCGUUAAAGUGCAAAAUUUCCACGAGGUUAACUGGACCUACAGCAUGCCCUUAGAAAUUUUCUACAAAAUCGCUAGGCACGAGCAUGUUAAUCACAUCUUUUAUAGGUCGCACAUCACUCACUUAUAAAGGCUUAAGGUAAUUUUCUCGACCAUCCAGGUUUCGCAUGGGCUUAAAUACGAGCUGGUGCAGUCAACCGCUACCCCGAACGGGCACUUAAUUGCCCCCUAUCAAAAGGACUUUAACCUUACCGAAAACCACCCGCACUAGUGUCAUGUCACUACGUACGAACACUUUUUCAGCAG\n"
     ]
    }
   ],
   "source": [
    "print(f\"Esta es la secuencia de ARN {secuencia_arn}\")"
   ]
  },
  {
   "cell_type": "markdown",
   "id": "9f94d5dd",
   "metadata": {},
   "source": [
    "#### 7.- Realiza una función que realice una digestión con las siguientes enzimas de restricción en nuestra secuencia. La función tiene que devolver la siguiente información: (2 pto)\n",
    "1. Enzimas que tienen sitios de corte en la secuencia y posición (o posiciones de corte)\n",
    "2. Enzimas que no tienen sitios de corte (si las hay)\n",
    "3. Resultado de la digestión: los fragmentos resultantes de nuestra secuencia\n",
    "4. Indicar número y tamaño de cada fragmento"
   ]
  },
  {
   "cell_type": "code",
   "execution_count": 95,
   "id": "1cab833c",
   "metadata": {},
   "outputs": [],
   "source": [
    "import re\n",
    "\n",
    "#Las enzimas de restricción\n",
    "enzR = {\n",
    "    'HindIII' : 'A*AGCTT',\n",
    "    'BamHI' : 'G*GATCC',\n",
    "    'AluI' : 'AG*CT',\n",
    "    'Sau3AI' : '*GATC',\n",
    "    'EcoRI' : 'G*AATTC'\n",
    "}\n"
   ]
  },
  {
   "cell_type": "code",
   "execution_count": 99,
   "id": "fc21a427-9aca-48bf-85a1-74f0e1b23be2",
   "metadata": {},
   "outputs": [],
   "source": [
    "#Creamos la función para realizar la digestion con las enzimas de restricción \n",
    "def digestion_enzimas(secuencia, enzimas):\n",
    "    # creamos las listas y diccionarios para guardar los resultados de la función  \n",
    "    enzimas_con_corte = {}  # (1.)Enzimas que tienen cortes y sus posiciones\n",
    "    enzimas_sin_corte = []  # (2.)Enzimas que no tienen sitios de corte\n",
    "    fragmentos_resultantes = []  # (3.)los fragmentos generados\n",
    "\n",
    "    # Recorrer cada enzima y su sitio de corte\n",
    "    for enzima, sitio_corte in enzimas.items():\n",
    "        # Quitar el asterisco del sitio de corte para buscar en la secuencia\n",
    "        sitio_corte_patron = sitio_corte.replace('*', '')\n",
    "        \n",
    "        # Para buscar las posiciónes de corte \n",
    "        posiciones = [m.start() for m in re.finditer(sitio_corte_patron, secuencia)]\n",
    "        \n",
    "        if posiciones:  # Si hay posiciones, significa que la enzima puede cortar \n",
    "            enzimas_con_corte[enzima] = posiciones  # Guardar enzima y posiciones en la variable enzimas_con_corte \n",
    "            \n",
    "            # Para calcular los fragmentos \n",
    "            cortes = [0] + [p + sitio_corte.index('*') for p in posiciones] + [len(secuencia)]\n",
    "            for i in range(len(cortes) - 1):\n",
    "                fragmentos_resultantes.append(secuencia[cortes[i]:cortes[i+1]])\n",
    "        else:\n",
    "            enzimas_sin_corte.append(enzima)  # Si no corta, significa que la enzima no tiene sitio de corte por lo que la guardamos aquí\n",
    " # Para Calcular los tamaños de los fragmentos\n",
    "    tamaños_fragmentos = [len(frag) for frag in fragmentos_resultantes]\n",
    "\n",
    "    #Para que nos devuelba los resultados \n",
    "    return enzimas_con_corte, enzimas_sin_corte, fragmentos_resultantes, tamaños_fragmentos\n"
   ]
  },
  {
   "cell_type": "code",
   "execution_count": 105,
   "id": "3c2bbdba-4e09-46a5-ae7d-1b224283dd7f",
   "metadata": {},
   "outputs": [
    {
     "name": "stdout",
     "output_type": "stream",
     "text": [
      "Enzimas con sitios de corte:\n",
      "  AluI: [37, 80, 281, 627, 920, 1171]\n",
      "  Sau3AI: [798, 828, 1097, 1290]\n",
      "  EcoRI: [738, 1156]\n",
      "\n",
      "Enzimas sin sitios de corte:\n",
      "['HindIII', 'BamHI']\n",
      "\n",
      "Fragmentos resultantes:\n",
      "  Fragmento 1: ATGCTTTGGACAGACTGCTTAACTCGCTTGCGACAAGAG (tamaño: 39)\n",
      "  Fragmento 2: CTCTCTGATAACGTCTTTGCGATGTGGATTCGCCCTTTAGTAG (tamaño: 43)\n",
      "  Fragmento 3: CTGAAGAAGTAGAGGGGATACTACGTCTCTATGCTCCTAATCCTTATTGGACGCGTTATATTCAAGAGAATCATTTAGAGTTAATTTCTATATTGGCTGAACAATTGTCAGAAGGGCGGGTGCGTCAGGTTGAAATCTTGGTAGATTCTCGTCCTGGTAGTATTTTGTCTTCTAGTGAACAGCCTGCAACAACTACAGCAG (tamaño: 201)\n",
      "  Fragmento 4: CTTTACAAACTGCCCCTATACCTCAACCTGCTAAGGTTAAAAGAGAACCGGAACCTGTTGCTAATACTGCAGTTAGTTCTAAGAGTTCAAAAAAGAAACTATTAAATCCACAATTTACTTTTTCACTATTTGTTGAAGGCCGTTCTAACCAAATGGCAGCAGAAACCTGTAGAAAAGTATTAACACAGTTAGGTGCTTCTCAACATAACCCTTTGTTTTTATATGGTCCGACAGGTCTAGGTAAGACTCACTTAATGCAAGCAGTTGGTAATGCCCTACTGCAAGCGAAGCCGAATGCAAGAGTCATGTATATGACTTCAGAAAGTTTTGTACAAGATTTTGTGAG (tamaño: 346)\n",
      "  Fragmento 5: CTCATTACAAAAAGGAAAGGTAGAAGAGTTTAAGAAAAATTGCCGTTCTTTAGACTTGTTATTAGTAGATGATATTCATCTTTTGGCAGGAAAAGAAGCAAGTCTCGTTGAATTCTTCTATACATTTAATGCCTTACTTGATGAATCTAAACAAATTATTTTAACGTCTGATCGATATCCTAAAGAATTAACAGAACTTGATCCTCGATTGGTTTCTCGTTTTTCCTGGGGGCTATCAGTAGGTGTTGAACCACCTGATATTGAAACTCGAATCGAAATTCTGCTTAAAAAAG (tamaño: 293)\n",
      "  Fragmento 6: CTGAAAATAGTGGCGTTGATTTACCTAGAAACTGTGCGTTGTTTATTGCCCAACAAGTCGTAGCGAACGTACGTGAACTTGAGGGCGCACTGAATAAAGTTGTCGCAATTTCACGTTTTAAAGGTGCTCCAATTGACCTGGATGTCGTACGGGAATCTTTAAAAGATGTTTTAGCGATCCGTGCTCGTACAATTAGTGTAGAAAATATCCAGCGTGTAGTGAGTGAATATTTCCGAATTCCATTAAAAGAG (tamaño: 251)\n",
      "  Fragmento 7: CTGGTAGGTCCAAAGCGTACCCGAATTTATGCTCGACCACGTCAGTTGGCGATGGGGCTTGCCCGTGAATTAACGGGGGATAGTTTTCCTGAAATTGGAATGGCTTTTGGTGGGCGTGATCACAGTACAGTGATGCATGCTTGTGAAAAAGTCGTC (tamaño: 156)\n",
      "  Fragmento 8: ATGCTTTGGACAGACTGCTTAACTCGCTTGCGACAAGAGCTCTCTGATAACGTCTTTGCGATGTGGATTCGCCCTTTAGTAGCTGAAGAAGTAGAGGGGATACTACGTCTCTATGCTCCTAATCCTTATTGGACGCGTTATATTCAAGAGAATCATTTAGAGTTAATTTCTATATTGGCTGAACAATTGTCAGAAGGGCGGGTGCGTCAGGTTGAAATCTTGGTAGATTCTCGTCCTGGTAGTATTTTGTCTTCTAGTGAACAGCCTGCAACAACTACAGCAGCTTTACAAACTGCCCCTATACCTCAACCTGCTAAGGTTAAAAGAGAACCGGAACCTGTTGCTAATACTGCAGTTAGTTCTAAGAGTTCAAAAAAGAAACTATTAAATCCACAATTTACTTTTTCACTATTTGTTGAAGGCCGTTCTAACCAAATGGCAGCAGAAACCTGTAGAAAAGTATTAACACAGTTAGGTGCTTCTCAACATAACCCTTTGTTTTTATATGGTCCGACAGGTCTAGGTAAGACTCACTTAATGCAAGCAGTTGGTAATGCCCTACTGCAAGCGAAGCCGAATGCAAGAGTCATGTATATGACTTCAGAAAGTTTTGTACAAGATTTTGTGAGCTCATTACAAAAAGGAAAGGTAGAAGAGTTTAAGAAAAATTGCCGTTCTTTAGACTTGTTATTAGTAGATGATATTCATCTTTTGGCAGGAAAAGAAGCAAGTCTCGTTGAATTCTTCTATACATTTAATGCCTTACTTGATGAATCTAAACAAATTATTTTAACGTCT (tamaño: 798)\n",
      "  Fragmento 9: GATCGATATCCTAAAGAATTAACAGAACTT (tamaño: 30)\n",
      "  Fragmento 10: GATCCTCGATTGGTTTCTCGTTTTTCCTGGGGGCTATCAGTAGGTGTTGAACCACCTGATATTGAAACTCGAATCGAAATTCTGCTTAAAAAAGCTGAAAATAGTGGCGTTGATTTACCTAGAAACTGTGCGTTGTTTATTGCCCAACAAGTCGTAGCGAACGTACGTGAACTTGAGGGCGCACTGAATAAAGTTGTCGCAATTTCACGTTTTAAAGGTGCTCCAATTGACCTGGATGTCGTACGGGAATCTTTAAAAGATGTTTTAGC (tamaño: 269)\n",
      "  Fragmento 11: GATCCGTGCTCGTACAATTAGTGTAGAAAATATCCAGCGTGTAGTGAGTGAATATTTCCGAATTCCATTAAAAGAGCTGGTAGGTCCAAAGCGTACCCGAATTTATGCTCGACCACGTCAGTTGGCGATGGGGCTTGCCCGTGAATTAACGGGGGATAGTTTTCCTGAAATTGGAATGGCTTTTGGTGGGCGT (tamaño: 193)\n",
      "  Fragmento 12: GATCACAGTACAGTGATGCATGCTTGTGAAAAAGTCGTC (tamaño: 39)\n",
      "  Fragmento 13: ATGCTTTGGACAGACTGCTTAACTCGCTTGCGACAAGAGCTCTCTGATAACGTCTTTGCGATGTGGATTCGCCCTTTAGTAGCTGAAGAAGTAGAGGGGATACTACGTCTCTATGCTCCTAATCCTTATTGGACGCGTTATATTCAAGAGAATCATTTAGAGTTAATTTCTATATTGGCTGAACAATTGTCAGAAGGGCGGGTGCGTCAGGTTGAAATCTTGGTAGATTCTCGTCCTGGTAGTATTTTGTCTTCTAGTGAACAGCCTGCAACAACTACAGCAGCTTTACAAACTGCCCCTATACCTCAACCTGCTAAGGTTAAAAGAGAACCGGAACCTGTTGCTAATACTGCAGTTAGTTCTAAGAGTTCAAAAAAGAAACTATTAAATCCACAATTTACTTTTTCACTATTTGTTGAAGGCCGTTCTAACCAAATGGCAGCAGAAACCTGTAGAAAAGTATTAACACAGTTAGGTGCTTCTCAACATAACCCTTTGTTTTTATATGGTCCGACAGGTCTAGGTAAGACTCACTTAATGCAAGCAGTTGGTAATGCCCTACTGCAAGCGAAGCCGAATGCAAGAGTCATGTATATGACTTCAGAAAGTTTTGTACAAGATTTTGTGAGCTCATTACAAAAAGGAAAGGTAGAAGAGTTTAAGAAAAATTGCCGTTCTTTAGACTTGTTATTAGTAGATGATATTCATCTTTTGGCAGGAAAAGAAGCAAGTCTCGTTG (tamaño: 739)\n",
      "  Fragmento 14: AATTCTTCTATACATTTAATGCCTTACTTGATGAATCTAAACAAATTATTTTAACGTCTGATCGATATCCTAAAGAATTAACAGAACTTGATCCTCGATTGGTTTCTCGTTTTTCCTGGGGGCTATCAGTAGGTGTTGAACCACCTGATATTGAAACTCGAATCGAAATTCTGCTTAAAAAAGCTGAAAATAGTGGCGTTGATTTACCTAGAAACTGTGCGTTGTTTATTGCCCAACAAGTCGTAGCGAACGTACGTGAACTTGAGGGCGCACTGAATAAAGTTGTCGCAATTTCACGTTTTAAAGGTGCTCCAATTGACCTGGATGTCGTACGGGAATCTTTAAAAGATGTTTTAGCGATCCGTGCTCGTACAATTAGTGTAGAAAATATCCAGCGTGTAGTGAGTGAATATTTCCG (tamaño: 418)\n",
      "  Fragmento 15: AATTCCATTAAAAGAGCTGGTAGGTCCAAAGCGTACCCGAATTTATGCTCGACCACGTCAGTTGGCGATGGGGCTTGCCCGTGAATTAACGGGGGATAGTTTTCCTGAAATTGGAATGGCTTTTGGTGGGCGTGATCACAGTACAGTGATGCATGCTTGTGAAAAAGTCGTC (tamaño: 172)\n",
      "\n",
      "Tamaños de los fragmentos:\n",
      "[39, 43, 201, 346, 293, 251, 156, 798, 30, 269, 193, 39, 739, 418, 172]\n"
     ]
    }
   ],
   "source": [
    "# Llamar a la función con la secuencia y las enzimas\n",
    "enzimas_con_corte, enzimas_sin_corte, fragmentos, tamaños = digestion_enzimas(secuencia, enzR)\n",
    "\n",
    "# Para que nos muestre los resultados creo una condicional \n",
    "#Para las enzimas con sitios de corte  \n",
    "print(\"Enzimas con sitios de corte:\")\n",
    "for enzima, posiciones in enzimas_con_corte.items():\n",
    "    #Para que ponga las enzimas y luego las posiciones\n",
    "    print(f\"  {enzima}: {posiciones}\")\n",
    "#Para las enzimas sin sitios de corte  \n",
    "print(\"\\nEnzimas sin sitios de corte:\")\n",
    "print(enzimas_sin_corte)\n",
    "\n",
    "#Para los fragmentos tras la digestión  \n",
    "print(\"\\nFragmentos resultantes:\")\n",
    "for i, frag in enumerate(fragmentos):\n",
    "    print(f\"  Fragmento {i+1}: {frag} (tamaño: {len(frag)})\")\n",
    "#Para mostrar los resultados del tamaño de los fragmentos \n",
    "print(\"\\nTamaños de los fragmentos:\")\n",
    "print(tamaños)"
   ]
  },
  {
   "cell_type": "markdown",
   "id": "cae3c937",
   "metadata": {},
   "source": [
    "#### 8.- Realiza una función que mediante la introducción de una secuencia de ADN devuelva lo siguiente: (2pto)\n",
    "1. La secuencia traducida de proteína\n",
    "2. La longitud de la secuencia de ADN original y la longitud de la secuencia de proteínas final\n",
    "3. El porcentaje de aminoácidos aromáticos (en conjunto y por separado)\n"
   ]
  },
  {
   "cell_type": "code",
   "execution_count": 115,
   "id": "1c43d765",
   "metadata": {},
   "outputs": [],
   "source": [
    "# El diccionario para el paso de codones a aminoácidos \n",
    "codigo_genetico = {\n",
    "    'ATA':'I', 'ATC':'I', 'ATT':'I', 'ATG':'M',\n",
    "    'ACA':'T', 'ACC':'T', 'ACG':'T', 'ACT':'T',\n",
    "    'AAC':'N', 'AAT':'N', 'AAA':'K', 'AAG':'K',\n",
    "    'AGC':'S', 'AGT':'S', 'AGA':'R', 'AGG':'R',\n",
    "    'CTA':'L', 'CTC':'L', 'CTG':'L', 'CTT':'L',\n",
    "    'CCA':'P', 'CCC':'P', 'CCG':'P', 'CCT':'P',\n",
    "    'CAC':'H', 'CAT':'H', 'CAA':'Q', 'CAG':'Q',\n",
    "    'CGA':'R', 'CGC':'R', 'CGG':'R', 'CGT':'R',\n",
    "    'GTA':'V', 'GTC':'V', 'GTG':'V', 'GTT':'V',\n",
    "    'GCA':'A', 'GCC':'A', 'GCG':'A', 'GCT':'A',\n",
    "    'GAC':'D', 'GAT':'D', 'GAA':'E', 'GAG':'E',\n",
    "    'GGA':'G', 'GGC':'G', 'GGG':'G', 'GGT':'G',\n",
    "    'TCA':'S', 'TCC':'S', 'TCG':'S', 'TCT':'S',\n",
    "    'TTC':'F', 'TTT':'F', 'TTA':'L', 'TTG':'L',\n",
    "    'TAC':'Y', 'TAT':'Y', 'TAA':'_', 'TAG':'_',\n",
    "    'TGC':'C', 'TGT':'C', 'TGA':'_', 'TGG':'W',\n",
    "}\n",
    "\n",
    "# Definimos la lista de aminoácidos aromáticos: Fenilalanina,Triptófano y Tirosina.\n",
    "aromaticos = ['F', 'W', 'Y']  \n"
   ]
  },
  {
   "cell_type": "code",
   "execution_count": 117,
   "id": "95a0deb4-b451-482c-8b7b-d0f738b9be4e",
   "metadata": {},
   "outputs": [],
   "source": [
    "# Creamos la función para traducir el ADN a proteína\n",
    "def traducir_adn_a_proteina(secuencia_adn):\n",
    "    # Traducir secuencia por tripletes(codones)\n",
    "    proteina = \"\"\n",
    "    #Generamos la condicional que definimos range para que vaya en paso de tres en tres desde 0 , el (\" len(secuencia_adn) - 2\")lo pongo para que no me forme tripletes si hay menos de tres nucleótidos \n",
    "    for i in range(0, len(secuencia_adn) - 2, 3):\n",
    "        codon = secuencia_adn[i:i+3]#Se toma un segmento de 3 nucleótidos desde la posición i\n",
    "        proteina += codigo_genetico.get(codon, 'X')  # Para que busque dentro del dicciónario codigo_genetico a ver si es un codón valido, si el codón esté en el, nos dará el aminoácido corespondiente, si no nos da una X marcando el error.\n",
    "    return proteina"
   ]
  },
  {
   "cell_type": "code",
   "execution_count": 125,
   "id": "3f9e8ead-11bf-47d8-be36-cbf09f61f766",
   "metadata": {},
   "outputs": [],
   "source": [
    "# Esta función analiza la secuencia de ADN para devolvernos la información de las proteínas \n",
    "def analizar_adn(secuencia_adn):\n",
    "    #Traducimos la secuencia de ADN secuencia a proteína a base de la función que hemos generado antes \n",
    "    proteina = traducir_adn_a_proteina(secuencia_adn)\n",
    "    \n",
    "    #Para saber la longitud de la secuencia de ADN y proteína\n",
    "    longitud_adn = len(secuencia_adn)#Para saber la cantidad de nucleótidos en la secuencia de ADN\n",
    "    longitud_proteina = len(proteina)#Para saber la cantidad de aminoácidos en la proteína\n",
    "    \n",
    "    #Para calcular porcentaje de aminoácidos aromáticos\n",
    "    conteo_aromaticos = {aa: proteina.count(aa) for aa in aromaticos}#Utilizamos el conteo para contar la cantidad de aminoácidos aromáticos\n",
    "    total_aromaticos = sum(conteo_aromaticos.values())#Sumamos la cantidad de aromáticos \n",
    "    porcentaje_aromaticos = (total_aromaticos / longitud_proteina) * 100 if longitud_proteina > 0 else 0 # Para calcular el porcentage de aa Aromáticos.\n",
    "    \n",
    "    # Resultados\n",
    "    return {\n",
    "        \"secuencia_proteina\": proteina, # La secuencia de la proteína (que hemos traducido )\n",
    "        \"longitud_adn\": longitud_adn, # La longitud de la secuencia de ADN\n",
    "        \"longitud_proteina\": longitud_proteina, # La longitud de la proteína \n",
    "        \"conteo_aromaticos\": conteo_aromaticos, #Diccionario del conteo de aa. aromáticos \n",
    "        \"porcentaje_aromaticos\": round(porcentaje_aromaticos, 1)# el porcentage de aa aromaticos rodeados a un decimal \n",
    "    }"
   ]
  },
  {
   "cell_type": "code",
   "execution_count": 131,
   "id": "06b8620b-fd5f-42aa-a9d2-43dc50b6f34e",
   "metadata": {},
   "outputs": [
    {
     "name": "stdout",
     "output_type": "stream",
     "text": [
      "La Secuencia traducida de proteína es....:\n",
      "MLWTDCLTRLRQELSDNVFAMWIRPLVAEEVEGILRLYAPNPYWTRYIQENHLELISILAEQLSEGRVRQVEILVDSRPGSILSSSEQPATTTAALQTAPIPQPAKVKREPEPVANTAVSSKSSKKKLLNPQFTFSLFVEGRSNQMAAETCRKVLTQLGASQHNPLFLYGPTGLGKTHLMQAVGNALLQAKPNARVMYMTSESFVQDFVSSLQKGKVEEFKKNCRSLDLLLVDDIHLLAGKEASLVEFFYTFNALLDESKQIILTSDRYPKELTELDPRLVSRFSWGLSVGVEPPDIETRIEILLKKAENSGVDLPRNCALFIAQQVVANVRELEGALNKVVAISRFKGAPIDLDVVRESLKDVLAIRARTISVENIQRVVSEYFRIPLKELVGPKRTRIYARPRQLAMGLARELTGDSFPEIGMAFGGRDHSTVMHACEKVV\n",
      "\n",
      "La longitud de la secuencia es ......:\n",
      "ADN con : 1329 nucleótidos\n",
      "Proteína con : 443 aminoácidos\n",
      "\n",
      "Porcentaje de aminoácidos aromáticos:\n",
      "Por separado: {'F': 17, 'W': 4, 'Y': 9}\n",
      "En conjunto: 6.8%\n"
     ]
    }
   ],
   "source": [
    "##Resultados \n",
    "# Llamar a la función con la secuencia de ADN\n",
    "resultados_ej8 = analizar_adn(secuencia)\n",
    "\n",
    "# Mostrar resultados\n",
    "print(\"La Secuencia traducida de proteína es....:\")\n",
    "print(resultados_ej8[\"secuencia_proteina\"])\n",
    "\n",
    "print(\"\\nLa longitud de la secuencia es ......:\")\n",
    "print(f\"ADN con : {resultados_ej8['longitud_adn']} nucleótidos\")\n",
    "print(f\"Proteína con : {resultados_ej8['longitud_proteina']} aminoácidos\")\n",
    "\n",
    "print(\"\\nPorcentaje de aminoácidos aromáticos:\")\n",
    "print(f\"Por separado: {resultados_ej8['conteo_aromaticos']}\")#Para ver la cantidad de cada tipo de  aminiácidos aromáticos.\n",
    "print(f\"En conjunto: {resultados_ej8['porcentaje_aromaticos']}%\")\n"
   ]
  }
 ],
 "metadata": {
  "kernelspec": {
   "display_name": "Python 3 (ipykernel)",
   "language": "python",
   "name": "python3"
  },
  "language_info": {
   "codemirror_mode": {
    "name": "ipython",
    "version": 3
   },
   "file_extension": ".py",
   "mimetype": "text/x-python",
   "name": "python",
   "nbconvert_exporter": "python",
   "pygments_lexer": "ipython3",
   "version": "3.12.4"
  }
 },
 "nbformat": 4,
 "nbformat_minor": 5
}
